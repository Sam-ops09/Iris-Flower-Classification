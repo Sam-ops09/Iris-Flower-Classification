{
 "cells": [
  {
   "cell_type": "code",
   "execution_count": 100,
   "metadata": {
    "executionInfo": {
     "elapsed": 628,
     "status": "ok",
     "timestamp": 1629876101534,
     "user": {
      "displayName": "afzal khan",
      "photoUrl": "https://lh3.googleusercontent.com/a-/AOh14GgUST8DUoDL0DoZveCUlM7IGz_JpEiLSAF460mDPA=s64",
      "userId": "17505607055220019542"
     },
     "user_tz": -330
    },
    "id": "cmO_-ATt8HYB"
   },
   "outputs": [],
   "source": [
    "import pandas as pd\n",
    "import numpy as np\n",
    "import os\n",
    "import matplotlib.pyplot as plt\n",
    "import seaborn as sns"
   ]
  },
  {
   "cell_type": "code",
   "execution_count": 101,
   "metadata": {
    "colab": {
     "base_uri": "https://localhost:8080/",
     "height": 202
    },
    "executionInfo": {
     "elapsed": 22,
     "status": "ok",
     "timestamp": 1629876101538,
     "user": {
      "displayName": "afzal khan",
      "photoUrl": "https://lh3.googleusercontent.com/a-/AOh14GgUST8DUoDL0DoZveCUlM7IGz_JpEiLSAF460mDPA=s64",
      "userId": "17505607055220019542"
     },
     "user_tz": -330
    },
    "id": "hYDAIKy18p9Z",
    "outputId": "91169555-7ef4-48d5-97b7-c4cd8f631f40"
   },
   "outputs": [
    {
     "data": {
      "text/html": [
       "<div>\n",
       "<style scoped>\n",
       "    .dataframe tbody tr th:only-of-type {\n",
       "        vertical-align: middle;\n",
       "    }\n",
       "\n",
       "    .dataframe tbody tr th {\n",
       "        vertical-align: top;\n",
       "    }\n",
       "\n",
       "    .dataframe thead th {\n",
       "        text-align: right;\n",
       "    }\n",
       "</style>\n",
       "<table border=\"1\" class=\"dataframe\">\n",
       "  <thead>\n",
       "    <tr style=\"text-align: right;\">\n",
       "      <th></th>\n",
       "      <th>Unnamed: 0</th>\n",
       "      <th>Sepal.Length</th>\n",
       "      <th>Sepal.Width</th>\n",
       "      <th>Petal.Length</th>\n",
       "      <th>Petal.Width</th>\n",
       "      <th>Species</th>\n",
       "    </tr>\n",
       "  </thead>\n",
       "  <tbody>\n",
       "    <tr>\n",
       "      <th>0</th>\n",
       "      <td>1</td>\n",
       "      <td>5.1</td>\n",
       "      <td>3.5</td>\n",
       "      <td>1.4</td>\n",
       "      <td>0.2</td>\n",
       "      <td>setosa</td>\n",
       "    </tr>\n",
       "    <tr>\n",
       "      <th>1</th>\n",
       "      <td>2</td>\n",
       "      <td>4.9</td>\n",
       "      <td>3.0</td>\n",
       "      <td>1.4</td>\n",
       "      <td>0.2</td>\n",
       "      <td>setosa</td>\n",
       "    </tr>\n",
       "    <tr>\n",
       "      <th>2</th>\n",
       "      <td>3</td>\n",
       "      <td>4.7</td>\n",
       "      <td>3.2</td>\n",
       "      <td>1.3</td>\n",
       "      <td>0.2</td>\n",
       "      <td>setosa</td>\n",
       "    </tr>\n",
       "    <tr>\n",
       "      <th>3</th>\n",
       "      <td>4</td>\n",
       "      <td>4.6</td>\n",
       "      <td>3.1</td>\n",
       "      <td>1.5</td>\n",
       "      <td>0.2</td>\n",
       "      <td>setosa</td>\n",
       "    </tr>\n",
       "    <tr>\n",
       "      <th>4</th>\n",
       "      <td>5</td>\n",
       "      <td>5.0</td>\n",
       "      <td>3.6</td>\n",
       "      <td>1.4</td>\n",
       "      <td>0.2</td>\n",
       "      <td>setosa</td>\n",
       "    </tr>\n",
       "  </tbody>\n",
       "</table>\n",
       "</div>"
      ],
      "text/plain": [
       "   Unnamed: 0  Sepal.Length  Sepal.Width  Petal.Length  Petal.Width Species\n",
       "0           1           5.1          3.5           1.4          0.2  setosa\n",
       "1           2           4.9          3.0           1.4          0.2  setosa\n",
       "2           3           4.7          3.2           1.3          0.2  setosa\n",
       "3           4           4.6          3.1           1.5          0.2  setosa\n",
       "4           5           5.0          3.6           1.4          0.2  setosa"
      ]
     },
     "execution_count": 101,
     "metadata": {},
     "output_type": "execute_result"
    }
   ],
   "source": [
    "df = pd.read_csv(\"C:\\iris_data.csv\")\n",
    "df.head()"
   ]
  },
  {
   "cell_type": "code",
   "execution_count": 102,
   "metadata": {
    "colab": {
     "base_uri": "https://localhost:8080/",
     "height": 294
    },
    "executionInfo": {
     "elapsed": 976,
     "status": "ok",
     "timestamp": 1629876102496,
     "user": {
      "displayName": "afzal khan",
      "photoUrl": "https://lh3.googleusercontent.com/a-/AOh14GgUST8DUoDL0DoZveCUlM7IGz_JpEiLSAF460mDPA=s64",
      "userId": "17505607055220019542"
     },
     "user_tz": -330
    },
    "id": "DeapTzn-8qCS",
    "outputId": "08f6544c-0e6a-43d0-d65c-42a03742d690"
   },
   "outputs": [
    {
     "data": {
      "text/html": [
       "<div>\n",
       "<style scoped>\n",
       "    .dataframe tbody tr th:only-of-type {\n",
       "        vertical-align: middle;\n",
       "    }\n",
       "\n",
       "    .dataframe tbody tr th {\n",
       "        vertical-align: top;\n",
       "    }\n",
       "\n",
       "    .dataframe thead th {\n",
       "        text-align: right;\n",
       "    }\n",
       "</style>\n",
       "<table border=\"1\" class=\"dataframe\">\n",
       "  <thead>\n",
       "    <tr style=\"text-align: right;\">\n",
       "      <th></th>\n",
       "      <th>Unnamed: 0</th>\n",
       "      <th>Sepal.Length</th>\n",
       "      <th>Sepal.Width</th>\n",
       "      <th>Petal.Length</th>\n",
       "      <th>Petal.Width</th>\n",
       "    </tr>\n",
       "  </thead>\n",
       "  <tbody>\n",
       "    <tr>\n",
       "      <th>count</th>\n",
       "      <td>150.000000</td>\n",
       "      <td>150.000000</td>\n",
       "      <td>150.000000</td>\n",
       "      <td>150.000000</td>\n",
       "      <td>150.000000</td>\n",
       "    </tr>\n",
       "    <tr>\n",
       "      <th>mean</th>\n",
       "      <td>75.500000</td>\n",
       "      <td>5.843333</td>\n",
       "      <td>3.057333</td>\n",
       "      <td>3.758000</td>\n",
       "      <td>1.199333</td>\n",
       "    </tr>\n",
       "    <tr>\n",
       "      <th>std</th>\n",
       "      <td>43.445368</td>\n",
       "      <td>0.828066</td>\n",
       "      <td>0.435866</td>\n",
       "      <td>1.765298</td>\n",
       "      <td>0.762238</td>\n",
       "    </tr>\n",
       "    <tr>\n",
       "      <th>min</th>\n",
       "      <td>1.000000</td>\n",
       "      <td>4.300000</td>\n",
       "      <td>2.000000</td>\n",
       "      <td>1.000000</td>\n",
       "      <td>0.100000</td>\n",
       "    </tr>\n",
       "    <tr>\n",
       "      <th>25%</th>\n",
       "      <td>38.250000</td>\n",
       "      <td>5.100000</td>\n",
       "      <td>2.800000</td>\n",
       "      <td>1.600000</td>\n",
       "      <td>0.300000</td>\n",
       "    </tr>\n",
       "    <tr>\n",
       "      <th>50%</th>\n",
       "      <td>75.500000</td>\n",
       "      <td>5.800000</td>\n",
       "      <td>3.000000</td>\n",
       "      <td>4.350000</td>\n",
       "      <td>1.300000</td>\n",
       "    </tr>\n",
       "    <tr>\n",
       "      <th>75%</th>\n",
       "      <td>112.750000</td>\n",
       "      <td>6.400000</td>\n",
       "      <td>3.300000</td>\n",
       "      <td>5.100000</td>\n",
       "      <td>1.800000</td>\n",
       "    </tr>\n",
       "    <tr>\n",
       "      <th>max</th>\n",
       "      <td>150.000000</td>\n",
       "      <td>7.900000</td>\n",
       "      <td>4.400000</td>\n",
       "      <td>6.900000</td>\n",
       "      <td>2.500000</td>\n",
       "    </tr>\n",
       "  </tbody>\n",
       "</table>\n",
       "</div>"
      ],
      "text/plain": [
       "       Unnamed: 0  Sepal.Length  Sepal.Width  Petal.Length  Petal.Width\n",
       "count  150.000000    150.000000   150.000000    150.000000   150.000000\n",
       "mean    75.500000      5.843333     3.057333      3.758000     1.199333\n",
       "std     43.445368      0.828066     0.435866      1.765298     0.762238\n",
       "min      1.000000      4.300000     2.000000      1.000000     0.100000\n",
       "25%     38.250000      5.100000     2.800000      1.600000     0.300000\n",
       "50%     75.500000      5.800000     3.000000      4.350000     1.300000\n",
       "75%    112.750000      6.400000     3.300000      5.100000     1.800000\n",
       "max    150.000000      7.900000     4.400000      6.900000     2.500000"
      ]
     },
     "execution_count": 102,
     "metadata": {},
     "output_type": "execute_result"
    }
   ],
   "source": [
    "df.describe()"
   ]
  },
  {
   "cell_type": "code",
   "execution_count": 103,
   "metadata": {
    "colab": {
     "base_uri": "https://localhost:8080/"
    },
    "executionInfo": {
     "elapsed": 67,
     "status": "ok",
     "timestamp": 1629876102498,
     "user": {
      "displayName": "afzal khan",
      "photoUrl": "https://lh3.googleusercontent.com/a-/AOh14GgUST8DUoDL0DoZveCUlM7IGz_JpEiLSAF460mDPA=s64",
      "userId": "17505607055220019542"
     },
     "user_tz": -330
    },
    "id": "ixKLzM_78qHY",
    "outputId": "7add1694-494c-4a20-afb8-da75adc1ff71"
   },
   "outputs": [
    {
     "name": "stdout",
     "output_type": "stream",
     "text": [
      "<class 'pandas.core.frame.DataFrame'>\n",
      "RangeIndex: 150 entries, 0 to 149\n",
      "Data columns (total 6 columns):\n",
      " #   Column        Non-Null Count  Dtype  \n",
      "---  ------        --------------  -----  \n",
      " 0   Unnamed: 0    150 non-null    int64  \n",
      " 1   Sepal.Length  150 non-null    float64\n",
      " 2   Sepal.Width   150 non-null    float64\n",
      " 3   Petal.Length  150 non-null    float64\n",
      " 4   Petal.Width   150 non-null    float64\n",
      " 5   Species       150 non-null    object \n",
      "dtypes: float64(4), int64(1), object(1)\n",
      "memory usage: 7.2+ KB\n"
     ]
    }
   ],
   "source": [
    "df.info()"
   ]
  },
  {
   "cell_type": "code",
   "execution_count": 104,
   "metadata": {
    "colab": {
     "base_uri": "https://localhost:8080/"
    },
    "executionInfo": {
     "elapsed": 57,
     "status": "ok",
     "timestamp": 1629876102500,
     "user": {
      "displayName": "afzal khan",
      "photoUrl": "https://lh3.googleusercontent.com/a-/AOh14GgUST8DUoDL0DoZveCUlM7IGz_JpEiLSAF460mDPA=s64",
      "userId": "17505607055220019542"
     },
     "user_tz": -330
    },
    "id": "zCiH5KXm8qIs",
    "outputId": "23db4aeb-38ba-479b-ed8c-cff4b95c4230"
   },
   "outputs": [
    {
     "data": {
      "text/plain": [
       "setosa        50\n",
       "versicolor    50\n",
       "virginica     50\n",
       "Name: Species, dtype: int64"
      ]
     },
     "execution_count": 104,
     "metadata": {},
     "output_type": "execute_result"
    }
   ],
   "source": [
    "df['Species'].value_counts()"
   ]
  },
  {
   "cell_type": "code",
   "execution_count": 105,
   "metadata": {
    "colab": {
     "base_uri": "https://localhost:8080/"
    },
    "executionInfo": {
     "elapsed": 51,
     "status": "ok",
     "timestamp": 1629876102501,
     "user": {
      "displayName": "afzal khan",
      "photoUrl": "https://lh3.googleusercontent.com/a-/AOh14GgUST8DUoDL0DoZveCUlM7IGz_JpEiLSAF460mDPA=s64",
      "userId": "17505607055220019542"
     },
     "user_tz": -330
    },
    "id": "-euhoNPZ8qMh",
    "outputId": "3a2209b8-6b1f-433d-ae1e-82789964e0a5"
   },
   "outputs": [
    {
     "data": {
      "text/plain": [
       "Unnamed: 0      0\n",
       "Sepal.Length    0\n",
       "Sepal.Width     0\n",
       "Petal.Length    0\n",
       "Petal.Width     0\n",
       "Species         0\n",
       "dtype: int64"
      ]
     },
     "execution_count": 105,
     "metadata": {},
     "output_type": "execute_result"
    }
   ],
   "source": [
    "df.isnull().sum()\n"
   ]
  },
  {
   "cell_type": "code",
   "execution_count": 106,
   "metadata": {
    "colab": {
     "base_uri": "https://localhost:8080/",
     "height": 282
    },
    "executionInfo": {
     "elapsed": 48,
     "status": "ok",
     "timestamp": 1629876102505,
     "user": {
      "displayName": "afzal khan",
      "photoUrl": "https://lh3.googleusercontent.com/a-/AOh14GgUST8DUoDL0DoZveCUlM7IGz_JpEiLSAF460mDPA=s64",
      "userId": "17505607055220019542"
     },
     "user_tz": -330
    },
    "id": "biORKC_o8qOY",
    "outputId": "c2adbd11-02fc-46f5-f860-6117702e7b0e"
   },
   "outputs": [
    {
     "data": {
      "text/plain": [
       "<matplotlib.axes._subplots.AxesSubplot at 0x7f2ea3ec31d0>"
      ]
     },
     "execution_count": 106,
     "metadata": {},
     "output_type": "execute_result"
    },
    {
     "data": {
      "image/png": "[encoded data removed]",
      "text/plain": [
       "<Figure size 432x288 with 1 Axes>"
      ]
     },
     "metadata": {
      "needs_background": "light"
     },
     "output_type": "display_data"
    }
   ],
   "source": [
    "df['Sepal.Length'].hist()"
   ]
  },
  {
   "cell_type": "code",
   "execution_count": 107,
   "metadata": {
    "colab": {
     "base_uri": "https://localhost:8080/",
     "height": 282
    },
    "executionInfo": {
     "elapsed": 42,
     "status": "ok",
     "timestamp": 1629876102507,
     "user": {
      "displayName": "afzal khan",
      "photoUrl": "https://lh3.googleusercontent.com/a-/AOh14GgUST8DUoDL0DoZveCUlM7IGz_JpEiLSAF460mDPA=s64",
      "userId": "17505607055220019542"
     },
     "user_tz": -330
    },
    "id": "zBKHzNt98qSZ",
    "outputId": "41585a14-211f-4808-e409-2e9d77ed9676"
   },
   "outputs": [
    {
     "data": {
      "text/plain": [
       "<matplotlib.axes._subplots.AxesSubplot at 0x7f2ea32ecfd0>"
      ]
     },
     "execution_count": 107,
     "metadata": {},
     "output_type": "execute_result"
    },
    {
     "data": {
      "image/png": "[encoded data removed]",
      "text/plain": [
       "<Figure size 432x288 with 1 Axes>"
      ]
     },
     "metadata": {
      "needs_background": "light"
     },
     "output_type": "display_data"
    }
   ],
   "source": [
    "df['Sepal.Width'].hist()"
   ]
  },
  {
   "cell_type": "code",
   "execution_count": 108,
   "metadata": {
    "colab": {
     "base_uri": "https://localhost:8080/",
     "height": 282
    },
    "executionInfo": {
     "elapsed": 935,
     "status": "ok",
     "timestamp": 1629876103408,
     "user": {
      "displayName": "afzal khan",
      "photoUrl": "https://lh3.googleusercontent.com/a-/AOh14GgUST8DUoDL0DoZveCUlM7IGz_JpEiLSAF460mDPA=s64",
      "userId": "17505607055220019542"
     },
     "user_tz": -330
    },
    "id": "KN-v2Sik8qT7",
    "outputId": "cadacc0c-e812-4505-ca0f-4aaa71540036"
   },
   "outputs": [
    {
     "data": {
      "text/plain": [
       "<matplotlib.axes._subplots.AxesSubplot at 0x7f2ea3281cd0>"
      ]
     },
     "execution_count": 108,
     "metadata": {},
     "output_type": "execute_result"
    },
    {
     "data": {
      "image/png": "[encoded data removed]",
      "text/plain": [
       "<Figure size 432x288 with 1 Axes>"
      ]
     },
     "metadata": {
      "needs_background": "light"
     },
     "output_type": "display_data"
    }
   ],
   "source": [
    "df['Petal.Length'].hist()"
   ]
  },
  {
   "cell_type": "code",
   "execution_count": 109,
   "metadata": {
    "colab": {
     "base_uri": "https://localhost:8080/",
     "height": 282
    },
    "executionInfo": {
     "elapsed": 45,
     "status": "ok",
     "timestamp": 1629876103410,
     "user": {
      "displayName": "afzal khan",
      "photoUrl": "https://lh3.googleusercontent.com/a-/AOh14GgUST8DUoDL0DoZveCUlM7IGz_JpEiLSAF460mDPA=s64",
      "userId": "17505607055220019542"
     },
     "user_tz": -330
    },
    "id": "CI2vU_j4__1W",
    "outputId": "915e96e9-7c7d-4a6a-e963-1660cf12cdc0"
   },
   "outputs": [
    {
     "data": {
      "text/plain": [
       "<matplotlib.axes._subplots.AxesSubplot at 0x7f2ea31deb50>"
      ]
     },
     "execution_count": 109,
     "metadata": {},
     "output_type": "execute_result"
    },
    {
     "data": {
      "image/png": "[encoded data removed]",
      "text/plain": [
       "<Figure size 432x288 with 1 Axes>"
      ]
     },
     "metadata": {
      "needs_background": "light"
     },
     "output_type": "display_data"
    }
   ],
   "source": [
    "df['Petal.Width'].hist()"
   ]
  },
  {
   "cell_type": "code",
   "execution_count": 110,
   "metadata": {
    "executionInfo": {
     "elapsed": 35,
     "status": "ok",
     "timestamp": 1629876103411,
     "user": {
      "displayName": "afzal khan",
      "photoUrl": "https://lh3.googleusercontent.com/a-/AOh14GgUST8DUoDL0DoZveCUlM7IGz_JpEiLSAF460mDPA=s64",
      "userId": "17505607055220019542"
     },
     "user_tz": -330
    },
    "id": "Djl8B_GM__3T"
   },
   "outputs": [],
   "source": [
    "colors = ['red', 'orange', 'blue']\n",
    "species = ['setosa','versicolor','virginica']"
   ]
  },
  {
   "cell_type": "code",
   "execution_count": 111,
   "metadata": {
    "colab": {
     "base_uri": "https://localhost:8080/",
     "height": 282
    },
    "executionInfo": {
     "elapsed": 34,
     "status": "ok",
     "timestamp": 1629876103412,
     "user": {
      "displayName": "afzal khan",
      "photoUrl": "https://lh3.googleusercontent.com/a-/AOh14GgUST8DUoDL0DoZveCUlM7IGz_JpEiLSAF460mDPA=s64",
      "userId": "17505607055220019542"
     },
     "user_tz": -330
    },
    "id": "xVXQt9LS__6W",
    "outputId": "00eb51b5-8dc7-4372-93ef-ed2592fc35a7"
   },
   "outputs": [
    {
     "data": {
      "image/png": "[encoded data removed]",
      "text/plain": [
       "<Figure size 432x288 with 1 Axes>"
      ]
     },
     "metadata": {
      "needs_background": "light"
     },
     "output_type": "display_data"
    }
   ],
   "source": [
    "for i in range(3):\n",
    "  x = df[df['Species'] == species[i]]\n",
    "  plt.scatter(x['Sepal.Length'], x['Sepal.Width'], c = colors[i], label=species[i])\n",
    "  plt.xlabel('Sepal Length')\n",
    "  plt.ylabel('Sepal Width')\n",
    "  plt.legend()"
   ]
  },
  {
   "cell_type": "code",
   "execution_count": 112,
   "metadata": {
    "colab": {
     "base_uri": "https://localhost:8080/",
     "height": 278
    },
    "executionInfo": {
     "elapsed": 34,
     "status": "ok",
     "timestamp": 1629876103414,
     "user": {
      "displayName": "afzal khan",
      "photoUrl": "https://lh3.googleusercontent.com/a-/AOh14GgUST8DUoDL0DoZveCUlM7IGz_JpEiLSAF460mDPA=s64",
      "userId": "17505607055220019542"
     },
     "user_tz": -330
    },
    "id": "k3td4wzW__7-",
    "outputId": "e9f21f6a-5688-4f2b-e74b-f45935953f61"
   },
   "outputs": [
    {
     "data": {
      "image/png": "[encoded data removed]",
      "text/plain": [
       "<Figure size 432x288 with 1 Axes>"
      ]
     },
     "metadata": {
      "needs_background": "light"
     },
     "output_type": "display_data"
    }
   ],
   "source": [
    "for i in range(3):\n",
    "  x = df[df['Species'] == species[i]]\n",
    "  plt.scatter(x['Petal.Length'], x['Petal.Width'], c = colors[i], label=species[i])\n",
    "  plt.xlabel('Petal Length')\n",
    "  plt.ylabel('Petal Width')\n",
    "  plt.legend()"
   ]
  },
  {
   "cell_type": "code",
   "execution_count": 113,
   "metadata": {
    "colab": {
     "base_uri": "https://localhost:8080/",
     "height": 278
    },
    "executionInfo": {
     "elapsed": 1271,
     "status": "ok",
     "timestamp": 1629876104653,
     "user": {
      "displayName": "afzal khan",
      "photoUrl": "https://lh3.googleusercontent.com/a-/AOh14GgUST8DUoDL0DoZveCUlM7IGz_JpEiLSAF460mDPA=s64",
      "userId": "17505607055220019542"
     },
     "user_tz": -330
    },
    "id": "kF5fCqvKC1OO",
    "outputId": "a9f8f021-faa4-478a-d26e-d24c47260d63"
   },
   "outputs": [
    {
     "data": {
      "image/png": "[encoded data removed]",
      "text/plain": [
       "<Figure size 432x288 with 1 Axes>"
      ]
     },
     "metadata": {
      "needs_background": "light"
     },
     "output_type": "display_data"
    }
   ],
   "source": [
    "for i in range(3):\n",
    "  x = df[df['Species'] == species[i]]\n",
    "  plt.scatter(x['Sepal.Length'], x['Petal.Length'], c = colors[i], label=species[i])\n",
    "  plt.xlabel('Sepal Length')\n",
    "  plt.ylabel('Petal Length')\n",
    "  plt.legend()"
   ]
  },
  {
   "cell_type": "code",
   "execution_count": 114,
   "metadata": {
    "colab": {
     "base_uri": "https://localhost:8080/",
     "height": 278
    },
    "executionInfo": {
     "elapsed": 80,
     "status": "ok",
     "timestamp": 1629876104655,
     "user": {
      "displayName": "afzal khan",
      "photoUrl": "https://lh3.googleusercontent.com/a-/AOh14GgUST8DUoDL0DoZveCUlM7IGz_JpEiLSAF460mDPA=s64",
      "userId": "17505607055220019542"
     },
     "user_tz": -330
    },
    "id": "E54cO0bzC1RW",
    "outputId": "146b9d54-4c04-4122-898c-3e13749993e9"
   },
   "outputs": [
    {
     "data": {
      "image/png": "[encoded data removed]",
      "text/plain": [
       "<Figure size 432x288 with 1 Axes>"
      ]
     },
     "metadata": {
      "needs_background": "light"
     },
     "output_type": "display_data"
    }
   ],
   "source": [
    "for i in range(3):\n",
    "  x = df[df['Species'] == species[i]]\n",
    "  plt.scatter(x['Sepal.Width'], x['Petal.Width'], c = colors[i], label=species[i])\n",
    "  plt.xlabel('Sepal Width')\n",
    "  plt.ylabel('Petal Width')\n",
    "  plt.legend()"
   ]
  },
  {
   "cell_type": "code",
   "execution_count": 114,
   "metadata": {
    "executionInfo": {
     "elapsed": 77,
     "status": "ok",
     "timestamp": 1629876104656,
     "user": {
      "displayName": "afzal khan",
      "photoUrl": "https://lh3.googleusercontent.com/a-/AOh14GgUST8DUoDL0DoZveCUlM7IGz_JpEiLSAF460mDPA=s64",
      "userId": "17505607055220019542"
     },
     "user_tz": -330
    },
    "id": "7BAiF_EiC1T0"
   },
   "outputs": [],
   "source": []
  },
  {
   "cell_type": "code",
   "execution_count": 115,
   "metadata": {
    "colab": {
     "base_uri": "https://localhost:8080/",
     "height": 202
    },
    "executionInfo": {
     "elapsed": 77,
     "status": "ok",
     "timestamp": 1629876104658,
     "user": {
      "displayName": "afzal khan",
      "photoUrl": "https://lh3.googleusercontent.com/a-/AOh14GgUST8DUoDL0DoZveCUlM7IGz_JpEiLSAF460mDPA=s64",
      "userId": "17505607055220019542"
     },
     "user_tz": -330
    },
    "id": "5p_OmBmcC1VP",
    "outputId": "9e0589e1-7728-485d-ad75-23a71a616c25"
   },
   "outputs": [
    {
     "data": {
      "text/html": [
       "<div>\n",
       "<style scoped>\n",
       "    .dataframe tbody tr th:only-of-type {\n",
       "        vertical-align: middle;\n",
       "    }\n",
       "\n",
       "    .dataframe tbody tr th {\n",
       "        vertical-align: top;\n",
       "    }\n",
       "\n",
       "    .dataframe thead th {\n",
       "        text-align: right;\n",
       "    }\n",
       "</style>\n",
       "<table border=\"1\" class=\"dataframe\">\n",
       "  <thead>\n",
       "    <tr style=\"text-align: right;\">\n",
       "      <th></th>\n",
       "      <th>Unnamed: 0</th>\n",
       "      <th>Sepal.Length</th>\n",
       "      <th>Sepal.Width</th>\n",
       "      <th>Petal.Length</th>\n",
       "      <th>Petal.Width</th>\n",
       "    </tr>\n",
       "  </thead>\n",
       "  <tbody>\n",
       "    <tr>\n",
       "      <th>Unnamed: 0</th>\n",
       "      <td>1.000000</td>\n",
       "      <td>0.716676</td>\n",
       "      <td>-0.402301</td>\n",
       "      <td>0.882637</td>\n",
       "      <td>0.900027</td>\n",
       "    </tr>\n",
       "    <tr>\n",
       "      <th>Sepal.Length</th>\n",
       "      <td>0.716676</td>\n",
       "      <td>1.000000</td>\n",
       "      <td>-0.117570</td>\n",
       "      <td>0.871754</td>\n",
       "      <td>0.817941</td>\n",
       "    </tr>\n",
       "    <tr>\n",
       "      <th>Sepal.Width</th>\n",
       "      <td>-0.402301</td>\n",
       "      <td>-0.117570</td>\n",
       "      <td>1.000000</td>\n",
       "      <td>-0.428440</td>\n",
       "      <td>-0.366126</td>\n",
       "    </tr>\n",
       "    <tr>\n",
       "      <th>Petal.Length</th>\n",
       "      <td>0.882637</td>\n",
       "      <td>0.871754</td>\n",
       "      <td>-0.428440</td>\n",
       "      <td>1.000000</td>\n",
       "      <td>0.962865</td>\n",
       "    </tr>\n",
       "    <tr>\n",
       "      <th>Petal.Width</th>\n",
       "      <td>0.900027</td>\n",
       "      <td>0.817941</td>\n",
       "      <td>-0.366126</td>\n",
       "      <td>0.962865</td>\n",
       "      <td>1.000000</td>\n",
       "    </tr>\n",
       "  </tbody>\n",
       "</table>\n",
       "</div>"
      ],
      "text/plain": [
       "              Unnamed: 0  Sepal.Length  Sepal.Width  Petal.Length  Petal.Width\n",
       "Unnamed: 0      1.000000      0.716676    -0.402301      0.882637     0.900027\n",
       "Sepal.Length    0.716676      1.000000    -0.117570      0.871754     0.817941\n",
       "Sepal.Width    -0.402301     -0.117570     1.000000     -0.428440    -0.366126\n",
       "Petal.Length    0.882637      0.871754    -0.428440      1.000000     0.962865\n",
       "Petal.Width     0.900027      0.817941    -0.366126      0.962865     1.000000"
      ]
     },
     "execution_count": 115,
     "metadata": {},
     "output_type": "execute_result"
    }
   ],
   "source": [
    "df.corr()"
   ]
  },
  {
   "cell_type": "code",
   "execution_count": 116,
   "metadata": {
    "colab": {
     "base_uri": "https://localhost:8080/",
     "height": 342
    },
    "executionInfo": {
     "elapsed": 75,
     "status": "ok",
     "timestamp": 1629876104659,
     "user": {
      "displayName": "afzal khan",
      "photoUrl": "https://lh3.googleusercontent.com/a-/AOh14GgUST8DUoDL0DoZveCUlM7IGz_JpEiLSAF460mDPA=s64",
      "userId": "17505607055220019542"
     },
     "user_tz": -330
    },
    "id": "KF51_isyC1YI",
    "outputId": "1212ff3c-67d9-420b-8fcb-39d65d793200"
   },
   "outputs": [
    {
     "data": {
      "text/plain": [
       "<matplotlib.axes._subplots.AxesSubplot at 0x7f2ea2f7fad0>"
      ]
     },
     "execution_count": 116,
     "metadata": {},
     "output_type": "execute_result"
    },
    {
     "data": {
      "image/png": "[encoded data removed]",
      "text/plain": [
       "<Figure size 360x288 with 2 Axes>"
      ]
     },
     "metadata": {
      "needs_background": "light"
     },
     "output_type": "display_data"
    }
   ],
   "source": [
    "corr = df.corr()\n",
    "fig, ax = plt.subplots(figsize=(5,4))\n",
    "sns.heatmap(corr, annot=True, ax=ax, cmap = 'coolwarm')"
   ]
  },
  {
   "cell_type": "code",
   "execution_count": 117,
   "metadata": {
    "executionInfo": {
     "elapsed": 67,
     "status": "ok",
     "timestamp": 1629876104660,
     "user": {
      "displayName": "afzal khan",
      "photoUrl": "https://lh3.googleusercontent.com/a-/AOh14GgUST8DUoDL0DoZveCUlM7IGz_JpEiLSAF460mDPA=s64",
      "userId": "17505607055220019542"
     },
     "user_tz": -330
    },
    "id": "TTkL5CdY___8"
   },
   "outputs": [],
   "source": [
    "from sklearn.preprocessing import LabelEncoder\n",
    "le = LabelEncoder()"
   ]
  },
  {
   "cell_type": "code",
   "execution_count": 118,
   "metadata": {
    "colab": {
     "base_uri": "https://localhost:8080/",
     "height": 202
    },
    "executionInfo": {
     "elapsed": 66,
     "status": "ok",
     "timestamp": 1629876104662,
     "user": {
      "displayName": "afzal khan",
      "photoUrl": "https://lh3.googleusercontent.com/a-/AOh14GgUST8DUoDL0DoZveCUlM7IGz_JpEiLSAF460mDPA=s64",
      "userId": "17505607055220019542"
     },
     "user_tz": -330
    },
    "id": "HuGZwCeXFtns",
    "outputId": "1be6fbb5-ef61-429b-fab5-95260d723e74"
   },
   "outputs": [
    {
     "data": {
      "text/html": [
       "<div>\n",
       "<style scoped>\n",
       "    .dataframe tbody tr th:only-of-type {\n",
       "        vertical-align: middle;\n",
       "    }\n",
       "\n",
       "    .dataframe tbody tr th {\n",
       "        vertical-align: top;\n",
       "    }\n",
       "\n",
       "    .dataframe thead th {\n",
       "        text-align: right;\n",
       "    }\n",
       "</style>\n",
       "<table border=\"1\" class=\"dataframe\">\n",
       "  <thead>\n",
       "    <tr style=\"text-align: right;\">\n",
       "      <th></th>\n",
       "      <th>Unnamed: 0</th>\n",
       "      <th>Sepal.Length</th>\n",
       "      <th>Sepal.Width</th>\n",
       "      <th>Petal.Length</th>\n",
       "      <th>Petal.Width</th>\n",
       "      <th>Species</th>\n",
       "    </tr>\n",
       "  </thead>\n",
       "  <tbody>\n",
       "    <tr>\n",
       "      <th>0</th>\n",
       "      <td>1</td>\n",
       "      <td>5.1</td>\n",
       "      <td>3.5</td>\n",
       "      <td>1.4</td>\n",
       "      <td>0.2</td>\n",
       "      <td>0</td>\n",
       "    </tr>\n",
       "    <tr>\n",
       "      <th>1</th>\n",
       "      <td>2</td>\n",
       "      <td>4.9</td>\n",
       "      <td>3.0</td>\n",
       "      <td>1.4</td>\n",
       "      <td>0.2</td>\n",
       "      <td>0</td>\n",
       "    </tr>\n",
       "    <tr>\n",
       "      <th>2</th>\n",
       "      <td>3</td>\n",
       "      <td>4.7</td>\n",
       "      <td>3.2</td>\n",
       "      <td>1.3</td>\n",
       "      <td>0.2</td>\n",
       "      <td>0</td>\n",
       "    </tr>\n",
       "    <tr>\n",
       "      <th>3</th>\n",
       "      <td>4</td>\n",
       "      <td>4.6</td>\n",
       "      <td>3.1</td>\n",
       "      <td>1.5</td>\n",
       "      <td>0.2</td>\n",
       "      <td>0</td>\n",
       "    </tr>\n",
       "    <tr>\n",
       "      <th>4</th>\n",
       "      <td>5</td>\n",
       "      <td>5.0</td>\n",
       "      <td>3.6</td>\n",
       "      <td>1.4</td>\n",
       "      <td>0.2</td>\n",
       "      <td>0</td>\n",
       "    </tr>\n",
       "  </tbody>\n",
       "</table>\n",
       "</div>"
      ],
      "text/plain": [
       "   Unnamed: 0  Sepal.Length  Sepal.Width  Petal.Length  Petal.Width  Species\n",
       "0           1           5.1          3.5           1.4          0.2        0\n",
       "1           2           4.9          3.0           1.4          0.2        0\n",
       "2           3           4.7          3.2           1.3          0.2        0\n",
       "3           4           4.6          3.1           1.5          0.2        0\n",
       "4           5           5.0          3.6           1.4          0.2        0"
      ]
     },
     "execution_count": 118,
     "metadata": {},
     "output_type": "execute_result"
    }
   ],
   "source": [
    "df['Species'] = le.fit_transform(df['Species'])\n",
    "df.head()"
   ]
  },
  {
   "cell_type": "code",
   "execution_count": 119,
   "metadata": {
    "executionInfo": {
     "elapsed": 63,
     "status": "ok",
     "timestamp": 1629876104663,
     "user": {
      "displayName": "afzal khan",
      "photoUrl": "https://lh3.googleusercontent.com/a-/AOh14GgUST8DUoDL0DoZveCUlM7IGz_JpEiLSAF460mDPA=s64",
      "userId": "17505607055220019542"
     },
     "user_tz": -330
    },
    "id": "kvZoOdweFtpP"
   },
   "outputs": [],
   "source": [
    "from sklearn.model_selection import train_test_split\n",
    "\n",
    "\n",
    "X = df.drop(columns=['Species'])\n",
    "Y = df['Species']\n",
    "x_train, x_test, y_train, y_test = train_test_split(X, Y, test_size=0.3)"
   ]
  },
  {
   "cell_type": "code",
   "execution_count": 120,
   "metadata": {
    "executionInfo": {
     "elapsed": 63,
     "status": "ok",
     "timestamp": 1629876104664,
     "user": {
      "displayName": "afzal khan",
      "photoUrl": "https://lh3.googleusercontent.com/a-/AOh14GgUST8DUoDL0DoZveCUlM7IGz_JpEiLSAF460mDPA=s64",
      "userId": "17505607055220019542"
     },
     "user_tz": -330
    },
    "id": "psyVD86IFtsL"
   },
   "outputs": [],
   "source": [
    "from sklearn.linear_model import LogisticRegression\n",
    "model = LogisticRegression()"
   ]
  },
  {
   "cell_type": "code",
   "execution_count": 121,
   "metadata": {
    "colab": {
     "base_uri": "https://localhost:8080/"
    },
    "executionInfo": {
     "elapsed": 63,
     "status": "ok",
     "timestamp": 1629876104665,
     "user": {
      "displayName": "afzal khan",
      "photoUrl": "https://lh3.googleusercontent.com/a-/AOh14GgUST8DUoDL0DoZveCUlM7IGz_JpEiLSAF460mDPA=s64",
      "userId": "17505607055220019542"
     },
     "user_tz": -330
    },
    "id": "OL4_KrwsFtuH",
    "outputId": "2e066c76-36fb-430e-d6ed-8252cb9e8677"
   },
   "outputs": [
    {
     "name": "stderr",
     "output_type": "stream",
     "text": [
      "/usr/local/lib/python3.7/dist-packages/sklearn/linear_model/_logistic.py:940: ConvergenceWarning: lbfgs failed to converge (status=1):\n",
      "STOP: TOTAL NO. of ITERATIONS REACHED LIMIT.\n",
      "\n",
      "Increase the number of iterations (max_iter) or scale the data as shown in:\n",
      "    https://scikit-learn.org/stable/modules/preprocessing.html\n",
      "Please also refer to the documentation for alternative solver options:\n",
      "    https://scikit-learn.org/stable/modules/linear_model.html#logistic-regression\n",
      "  extra_warning_msg=_LOGISTIC_SOLVER_CONVERGENCE_MSG)\n"
     ]
    },
    {
     "data": {
      "text/plain": [
       "LogisticRegression(C=1.0, class_weight=None, dual=False, fit_intercept=True,\n",
       "                   intercept_scaling=1, l1_ratio=None, max_iter=100,\n",
       "                   multi_class='auto', n_jobs=None, penalty='l2',\n",
       "                   random_state=None, solver='lbfgs', tol=0.0001, verbose=0,\n",
       "                   warm_start=False)"
      ]
     },
     "execution_count": 121,
     "metadata": {},
     "output_type": "execute_result"
    }
   ],
   "source": [
    "model.fit(x_train, y_train)\n"
   ]
  },
  {
   "cell_type": "code",
   "execution_count": 122,
   "metadata": {
    "colab": {
     "base_uri": "https://localhost:8080/"
    },
    "executionInfo": {
     "elapsed": 57,
     "status": "ok",
     "timestamp": 1629876104667,
     "user": {
      "displayName": "afzal khan",
      "photoUrl": "https://lh3.googleusercontent.com/a-/AOh14GgUST8DUoDL0DoZveCUlM7IGz_JpEiLSAF460mDPA=s64",
      "userId": "17505607055220019542"
     },
     "user_tz": -330
    },
    "id": "Ee6_DgFwFtxe",
    "outputId": "2cdabd44-c88a-4aab-ed15-e43da5519214"
   },
   "outputs": [
    {
     "name": "stdout",
     "output_type": "stream",
     "text": [
      "Accuracy:  97.77777777777777\n"
     ]
    }
   ],
   "source": [
    "print(\"Accuracy: \",model.score(x_test, y_test) * 100)"
   ]
  },
  {
   "cell_type": "code",
   "execution_count": 123,
   "metadata": {
    "executionInfo": {
     "elapsed": 56,
     "status": "ok",
     "timestamp": 1629876104670,
     "user": {
      "displayName": "afzal khan",
      "photoUrl": "https://lh3.googleusercontent.com/a-/AOh14GgUST8DUoDL0DoZveCUlM7IGz_JpEiLSAF460mDPA=s64",
      "userId": "17505607055220019542"
     },
     "user_tz": -330
    },
    "id": "V5ynF_jFFE-6"
   },
   "outputs": [],
   "source": [
    "from sklearn.neighbors import KNeighborsClassifier\n",
    "model = KNeighborsClassifier()"
   ]
  },
  {
   "cell_type": "code",
   "execution_count": 124,
   "metadata": {
    "colab": {
     "base_uri": "https://localhost:8080/"
    },
    "executionInfo": {
     "elapsed": 57,
     "status": "ok",
     "timestamp": 1629876104672,
     "user": {
      "displayName": "afzal khan",
      "photoUrl": "https://lh3.googleusercontent.com/a-/AOh14GgUST8DUoDL0DoZveCUlM7IGz_JpEiLSAF460mDPA=s64",
      "userId": "17505607055220019542"
     },
     "user_tz": -330
    },
    "id": "Vn7nKZzfJjYv",
    "outputId": "06a4999f-ac2a-4d6d-c7d3-7ba1322ed532"
   },
   "outputs": [
    {
     "data": {
      "text/plain": [
       "KNeighborsClassifier(algorithm='auto', leaf_size=30, metric='minkowski',\n",
       "                     metric_params=None, n_jobs=None, n_neighbors=5, p=2,\n",
       "                     weights='uniform')"
      ]
     },
     "execution_count": 124,
     "metadata": {},
     "output_type": "execute_result"
    }
   ],
   "source": [
    "model.fit(x_train, y_train)"
   ]
  },
  {
   "cell_type": "code",
   "execution_count": 125,
   "metadata": {
    "colab": {
     "base_uri": "https://localhost:8080/"
    },
    "executionInfo": {
     "elapsed": 57,
     "status": "ok",
     "timestamp": 1629876104675,
     "user": {
      "displayName": "afzal khan",
      "photoUrl": "https://lh3.googleusercontent.com/a-/AOh14GgUST8DUoDL0DoZveCUlM7IGz_JpEiLSAF460mDPA=s64",
      "userId": "17505607055220019542"
     },
     "user_tz": -330
    },
    "id": "cYLnLscZJjdV",
    "outputId": "f1e36676-be95-437c-f3a3-a172bb1c0d7c"
   },
   "outputs": [
    {
     "name": "stdout",
     "output_type": "stream",
     "text": [
      "Accuracy:  100.0\n"
     ]
    }
   ],
   "source": [
    " print(\"Accuracy: \",model.score(x_test, y_test) * 100)"
   ]
  },
  {
   "cell_type": "code",
   "execution_count": 126,
   "metadata": {
    "executionInfo": {
     "elapsed": 55,
     "status": "ok",
     "timestamp": 1629876104676,
     "user": {
      "displayName": "afzal khan",
      "photoUrl": "https://lh3.googleusercontent.com/a-/AOh14GgUST8DUoDL0DoZveCUlM7IGz_JpEiLSAF460mDPA=s64",
      "userId": "17505607055220019542"
     },
     "user_tz": -330
    },
    "id": "kfMMAPHsJjfd"
   },
   "outputs": [],
   "source": [
    "from sklearn.tree import DecisionTreeClassifier\n",
    "model = DecisionTreeClassifier()\n",
    "\n"
   ]
  },
  {
   "cell_type": "code",
   "execution_count": 127,
   "metadata": {
    "colab": {
     "base_uri": "https://localhost:8080/"
    },
    "executionInfo": {
     "elapsed": 55,
     "status": "ok",
     "timestamp": 1629876104677,
     "user": {
      "displayName": "afzal khan",
      "photoUrl": "https://lh3.googleusercontent.com/a-/AOh14GgUST8DUoDL0DoZveCUlM7IGz_JpEiLSAF460mDPA=s64",
      "userId": "17505607055220019542"
     },
     "user_tz": -330
    },
    "id": "n9zpleo7Jjie",
    "outputId": "d7645168-113d-48d9-eb17-4090b911fc7c"
   },
   "outputs": [
    {
     "data": {
      "text/plain": [
       "DecisionTreeClassifier(ccp_alpha=0.0, class_weight=None, criterion='gini',\n",
       "                       max_depth=None, max_features=None, max_leaf_nodes=None,\n",
       "                       min_impurity_decrease=0.0, min_impurity_split=None,\n",
       "                       min_samples_leaf=1, min_samples_split=2,\n",
       "                       min_weight_fraction_leaf=0.0, presort='deprecated',\n",
       "                       random_state=None, splitter='best')"
      ]
     },
     "execution_count": 127,
     "metadata": {},
     "output_type": "execute_result"
    }
   ],
   "source": [
    "model.fit(x_train, y_train)"
   ]
  },
  {
   "cell_type": "code",
   "execution_count": 128,
   "metadata": {
    "colab": {
     "base_uri": "https://localhost:8080/"
    },
    "executionInfo": {
     "elapsed": 55,
     "status": "ok",
     "timestamp": 1629876104680,
     "user": {
      "displayName": "afzal khan",
      "photoUrl": "https://lh3.googleusercontent.com/a-/AOh14GgUST8DUoDL0DoZveCUlM7IGz_JpEiLSAF460mDPA=s64",
      "userId": "17505607055220019542"
     },
     "user_tz": -330
    },
    "id": "R8TO8LuqJjkR",
    "outputId": "8748ea9e-8f6e-4dc4-c9b3-1d95e0330ab2"
   },
   "outputs": [
    {
     "name": "stdout",
     "output_type": "stream",
     "text": [
      "Accuracy:  95.55555555555556\n"
     ]
    }
   ],
   "source": [
    "print(\"Accuracy: \",model.score(x_test, y_test) * 100)"
   ]
  }
 ],
 "metadata": {
  "colab": {
   "authorship_tag": "ABX9TyN6I+YTeDSSQafc/xnU8k3k",
   "collapsed_sections": [],
   "name": "MAJOR2.ipynb",
   "provenance": []
  },
  "kernelspec": {
   "display_name": "Python 3",
   "language": "python",
   "name": "python3"
  },
  "language_info": {
   "codemirror_mode": {
    "name": "ipython",
    "version": 3
   },
   "file_extension": ".py",
   "mimetype": "text/x-python",
   "name": "python",
   "nbconvert_exporter": "python",
   "pygments_lexer": "ipython3",
   "version": "3.8.8"
  }
 },
 "nbformat": 4,
 "nbformat_minor": 1
}
